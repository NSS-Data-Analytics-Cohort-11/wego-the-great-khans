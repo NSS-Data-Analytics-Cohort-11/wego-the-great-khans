{
 "cells": [
  {
   "cell_type": "code",
   "execution_count": null,
   "id": "0d9af162",
   "metadata": {},
   "outputs": [],
   "source": [
    "import pandas as pd\n",
    "import matplotlib.pyplot as plt\n",
    "import seaborn as sns\n",
    "import numpy as np"
   ]
  },
  {
   "cell_type": "code",
   "execution_count": null,
   "id": "9d6de5cf",
   "metadata": {},
   "outputs": [],
   "source": [
    "wego = pd.read_csv(\"../data/Headway Data, 8-1-2023 to 9-30-2023.csv\")\n",
    "\n",
    "wego.head()"
   ]
  },
  {
   "cell_type": "markdown",
   "id": "d488b218",
   "metadata": {},
   "source": [
    "## 1.What is the overall on-time performance, and what do the overall distributions of adherence and headway deviation look like?\n",
    "\n",
    "\n",
    "\n",
    "\n"
   ]
  },
  {
   "cell_type": "code",
   "execution_count": null,
   "id": "b4dbe29f",
   "metadata": {
    "scrolled": true
   },
   "outputs": [],
   "source": [
    "#Filtering columns\n",
    "relevant_columns = ['ROUTE_ABBR', 'SCHEDULED_TIME', 'ACTUAL_ARRIVAL_TIME', 'ADHERENCE', 'HDWY_DEV','SCHEDULED_HDWY']\n",
    "filtered_data = wego.loc[:, relevant_columns]\n"
   ]
  },
  {
   "cell_type": "code",
   "execution_count": null,
   "id": "2455b69d",
   "metadata": {
    "scrolled": true
   },
   "outputs": [],
   "source": [
    "ontime_percentage = (wego['ADJUSTED_ONTIME_COUNT'].value_counts(normalize=True) * 100).round(2)\n",
    "\n",
    "# '%' added\n",
    "ontime_percentage_formatted = ontime_percentage.map(\"{:.2f}%\".format)\n",
    "\n",
    "# Results\n",
    "print(\"Percentage of ADJUSTED_ONTIME_COUNT values:\")\n",
    "print(ontime_percentage_formatted)"
   ]
  },
  {
   "cell_type": "code",
   "execution_count": null,
   "id": "4621405e",
   "metadata": {},
   "outputs": [],
   "source": [
    "#Uncleaned \n",
    "wego['HDWY_DEV_PCT'] = wego['HDWY_DEV'] / wego['SCHEDULED_HDWY']"
   ]
  },
  {
   "cell_type": "code",
   "execution_count": null,
   "id": "86aa64a6",
   "metadata": {},
   "outputs": [],
   "source": [
    "#Cleaned PCT without inf and NaN's\n",
    "wego['HDWY_DEV_PCT_C'] = wego['HDWY_DEV'] / wego['SCHEDULED_HDWY']\n",
    "\n",
    "# Replace inf values with NaN\n",
    "wego['HDWY_DEV_PCT_C'] = wego['HDWY_DEV_PCT_C'].replace([np.inf, -np.inf], np.nan)\n",
    "\n",
    "# Drop rows with NaN values\n",
    "wego_cleaned = wego.dropna(subset=['HDWY_DEV_PCT_C'])"
   ]
  },
  {
   "cell_type": "code",
   "execution_count": null,
   "id": "47be8ccc",
   "metadata": {
    "scrolled": true
   },
   "outputs": [],
   "source": [
    "#Plots\n",
    "plt.figure(figsize=(12, 6))\n",
    "\n",
    "# Distribution of adherence\n",
    "plt.subplot(1, 2, 1)\n",
    "sns.histplot(filtered_data['ADHERENCE'], kde=True, color='lightpink')\n",
    "plt.title('Distribution of Adherence')\n",
    "plt.xlabel('Adherence (minutes)')\n",
    "plt.ylabel('Frequency')\n",
    "\n",
    "\n",
    "# Distribution of headway deviation\n",
    "plt.subplot(1, 2, 2)\n",
    "sns.histplot(filtered_data['HDWY_DEV'], kde=True, color='lightpink')\n",
    "plt.title('Distribution of Headway Deviation')\n",
    "plt.xlabel('Headway Deviation (minutes)')\n",
    "plt.ylabel('Frequency')\n",
    "\n",
    "\n",
    "plt.tight_layout()\n",
    "plt.show()"
   ]
  },
  {
   "cell_type": "code",
   "execution_count": null,
   "id": "b8f6737f",
   "metadata": {
    "scrolled": true
   },
   "outputs": [],
   "source": [
    "#Histograms with pretty lines\n",
    "plt.figure(figsize=(12, 6))\n",
    "\n",
    "#'ADHERENCE'\n",
    "plt.subplot(1, 2, 1)\n",
    "sns.histplot(filtered_data['ADHERENCE'], kde=True, color='lightpink')\n",
    "plt.title('Histogram of Adherence')\n",
    "plt.xlabel('Adherence (minutes)')\n",
    "plt.ylabel('Frequency')\n",
    "plt.axvline(x=-6, color='purple', linestyle='--', label='Late Threshold (-6 min)')  # Adding a line indicating late threshold\n",
    "plt.axvline(x=1, color='green', linestyle='--', label='Early Threshold (1 min)')  # Addin a line indicating early threshold\n",
    "plt.xlim(left=-30, right=30)\n",
    "plt.legend()\n",
    "\n",
    "#'HDWY_DEV' \n",
    "filtered_data['HDWY_DEV_PCT_C'] = filtered_data['HDWY_DEV'] / filtered_data['SCHEDULED_HDWY']\n",
    "plt.subplot(1, 2, 2)\n",
    "sns.histplot(filtered_data['HDWY_DEV_PCT_C'], kde=True, color='#6F4B9E')\n",
    "plt.title('Headway Deviation Percent')\n",
    "plt.xlabel('Headway Deviation Precent')\n",
    "plt.ylabel('Frequency')\n",
    "plt.xlim(left=-2, right=2)  \n",
    "\n",
    "\n",
    "plt.tight_layout()\n",
    "plt.show()"
   ]
  },
  {
   "cell_type": "markdown",
   "id": "4a657a98",
   "metadata": {},
   "source": [
    "## 2. How does direction of travel, route, or location affect the headway and on-time performance?"
   ]
  },
  {
   "cell_type": "code",
   "execution_count": null,
   "id": "19331634",
   "metadata": {},
   "outputs": [],
   "source": [
    "grouped_abbr = wego.groupby('ROUTE_ABBR')"
   ]
  },
  {
   "cell_type": "code",
   "execution_count": null,
   "id": "242ac3b0",
   "metadata": {},
   "outputs": [],
   "source": [
    "grouped_route = wego.groupby('ROUTE_DIRECTION_NAME')"
   ]
  },
  {
   "cell_type": "code",
   "execution_count": null,
   "id": "b2cc2174",
   "metadata": {},
   "outputs": [],
   "source": [
    "statistics = grouped_abbr.agg({'HDWY_DEV_PCT_C': ['mean', 'std'], 'ADJUSTED_ONTIME_COUNT': 'mean'})"
   ]
  },
  {
   "cell_type": "code",
   "execution_count": null,
   "id": "44d5ce7b",
   "metadata": {
    "scrolled": false
   },
   "outputs": [],
   "source": [
    "statistics"
   ]
  },
  {
   "cell_type": "code",
   "execution_count": null,
   "id": "aa1bf6e9",
   "metadata": {},
   "outputs": [],
   "source": [
    "# Group by 'ROUTE_DIRECTION_NAME' & 'ROUTE_ABBR'\n",
    "grouped_route = wego.groupby(['ROUTE_ABBR', 'ROUTE_DIRECTION_NAME'])\n",
    "\n",
    "#Stats\n",
    "statistic = grouped_route.agg({'HDWY_DEV_PCT_C': ['mean', 'std'], 'ADJUSTED_ONTIME_COUNT': 'mean'})"
   ]
  },
  {
   "cell_type": "code",
   "execution_count": null,
   "id": "610904f4",
   "metadata": {},
   "outputs": [],
   "source": [
    "statistic"
   ]
  },
  {
   "cell_type": "code",
   "execution_count": null,
   "id": "4d385825",
   "metadata": {},
   "outputs": [],
   "source": [
    "wego.query('TIME_POINT_ABBR == \"SAMS\"')[['TIME_POINT_ABBR', 'LATITUDE', 'LONGITUDE']]"
   ]
  },
  {
   "cell_type": "code",
   "execution_count": null,
   "id": "1ec58c63",
   "metadata": {},
   "outputs": [],
   "source": [
    "grouped_time_points = wego.groupby('TIME_POINT_ABBR').agg({\n",
    "    'LATITUDE': 'first',\n",
    "    'LONGITUDE': 'first'\n",
    "}).reset_index()"
   ]
  },
  {
   "cell_type": "code",
   "execution_count": null,
   "id": "c8cd75a0",
   "metadata": {},
   "outputs": [],
   "source": [
    "grouped_time_points"
   ]
  },
  {
   "cell_type": "code",
   "execution_count": null,
   "id": "4d1608f8",
   "metadata": {},
   "outputs": [],
   "source": [
    "grouped_time_point = wego.groupby('TIME_POINT_ABBR').agg(\n",
    "    LATITUDE=('LATITUDE', 'mean'),\n",
    "    LONGITUDE=('LONGITUDE', 'mean'),\n",
    "    COUNT=('TIME_POINT_ABBR', 'size')\n",
    ").reset_index().sort_values(by='COUNT', ascending=False)\n",
    "\n",
    "\n",
    "print(grouped_time_point)"
   ]
  },
  {
   "cell_type": "code",
   "execution_count": null,
   "id": "ac88d21f",
   "metadata": {},
   "outputs": [],
   "source": [
    "#Adding column\n",
    "wego['BUNCHING'] = np.where(wego['HDWY_DEV_PCT_C']<-0.5, 1, 0)"
   ]
  },
  {
   "cell_type": "code",
   "execution_count": null,
   "id": "db3e2f6e",
   "metadata": {},
   "outputs": [],
   "source": [
    "wego['GAPPING'] = np.where(wego['HDWY_DEV_PCT_C']>0.5, 1, 0)"
   ]
  },
  {
   "cell_type": "code",
   "execution_count": null,
   "id": "bd1175c2",
   "metadata": {},
   "outputs": [],
   "source": [
    "#Adding column\n",
    "wego['ACCEPTABLE_HDWY'] = np.where((wego['HDWY_DEV_PCT_C']>=-0.5) & (wego['HDWY_DEV_PCT_C']<=0.5), 1, 0)"
   ]
  },
  {
   "cell_type": "code",
   "execution_count": null,
   "id": "33445627",
   "metadata": {
    "scrolled": true
   },
   "outputs": [],
   "source": [
    "wego.head()"
   ]
  },
  {
   "cell_type": "code",
   "execution_count": null,
   "id": "1985b3e8",
   "metadata": {
    "scrolled": true
   },
   "outputs": [],
   "source": [
    "wego.drop(columns=['ACCEPTING_HDWY'], inplace=True)"
   ]
  },
  {
   "cell_type": "markdown",
   "id": "e5a4c41f",
   "metadata": {},
   "source": [
    "#John Micheals answer\n",
    "\n",
    "For on time performace, route 22 (Bordeaux) is the most \"on time\" route, location MCC5_6 is the most \"on time\" location which is downtown around the wego central station, and going to downtown has a higher \"on time\" percentage than going from downtown."
   ]
  },
  {
   "cell_type": "markdown",
   "id": "14ffc0f4",
   "metadata": {},
   "source": [
    "## 3. How does time of day or day of week affect headway and on-time performance?\n"
   ]
  },
  {
   "cell_type": "markdown",
   "id": "43b279c8",
   "metadata": {},
   "source": [
    "SERVICE_ABBR: 1 = Weekday, 2 = Saturday, 3 = Sunday."
   ]
  },
  {
   "cell_type": "code",
   "execution_count": null,
   "id": "226086d3",
   "metadata": {
    "scrolled": true
   },
   "outputs": [],
   "source": [
    "#Converting columns into date & time\n",
    "wego['SCHEDULED_TIME'] = pd.to_datetime(wego['SCHEDULED_TIME'])\n",
    "wego['ACTUAL_ARRIVAL_TIME'] = pd.to_datetime(wego['ACTUAL_ARRIVAL_TIME'])\n",
    "wego['ACTUAL_DEPARTURE_TIME'] = pd.to_datetime(wego['ACTUAL_DEPARTURE_TIME'])\n",
    "wego.info()"
   ]
  },
  {
   "cell_type": "code",
   "execution_count": null,
   "id": "3ba44a0e",
   "metadata": {
    "scrolled": true
   },
   "outputs": [],
   "source": [
    "wego.groupby('DAY_OF_WEEK')[['ADJUSTED_ONTIME_COUNT', 'ADJUSTED_EARLY_COUNT',\n",
    "     'ADJUSTED_LATE_COUNT']].mean().sort_values('ADJUSTED_ONTIME_COUNT')"
   ]
  },
  {
   "cell_type": "code",
   "execution_count": null,
   "id": "b236efc5",
   "metadata": {},
   "outputs": [],
   "source": [
    "wego.groupby('ROUTE_ABBR')[['ADHERENCE', 'HDWY_DEV']].describe()"
   ]
  },
  {
   "cell_type": "code",
   "execution_count": null,
   "id": "a8bf17d8",
   "metadata": {},
   "outputs": [],
   "source": [
    "# Extract hour of the day and day of the week\n",
    "wego['HOUR_OF_DAY'] = wego['SCHEDULED_TIME'].dt.hour\n",
    "wego['DAY_OF_WEEK'] = wego['SCHEDULED_TIME'].dt.day_name() \n",
    "\n",
    "# Extract hour of the day and day of the week from ACTUAL_ARRIVAL_TIME\n",
    "wego['ACTUAL_HOUR_OF_DAY'] = wego['ACTUAL_DEPARTURE_TIME'].dt.hour\n",
    "wego['ACTUAL_DAY_OF_WEEK'] = wego['ACTUAL_DEPARTURE_TIME'].dt.day_name()  "
   ]
  },
  {
   "cell_type": "code",
   "execution_count": null,
   "id": "21f2faab",
   "metadata": {},
   "outputs": [],
   "source": [
    "# Group by HOUR_OF_DAY \n",
    "scheduled_hourly_stats = wego.groupby('HOUR_OF_DAY').agg({\n",
    "    'HDWY_DEV_PCT_C': 'mean',\n",
    "    'ADJUSTED_ONTIME_COUNT': 'mean'\n",
    "}).reset_index()\n",
    "\n",
    "#Column\n",
    "scheduled_hourly_stats.columns = ['HOUR_OF_DAY', 'HDWY_DEV_PCT_C_MEAN_SCHEDULED', 'ONTIME_PERCENTAGE_MEAN_SCHEDULED']\n",
    "\n",
    "\n",
    "# Group by ACTUAL HOUR_OF_DAY and calculate statistics\n",
    "actual_hourly_stats = wego.groupby('ACTUAL_HOUR_OF_DAY').agg({\n",
    "    'HDWY_DEV_PCT_C': 'mean',\n",
    "    'ADJUSTED_ONTIME_COUNT': 'mean'\n",
    "}).reset_index()\n",
    "actual_hourly_stats.columns = ['ACTUAL_HOUR_OF_DAY', 'HDWY_DEV_PCT_C_MEAN_ACTUAL','ONTIME_PERCENTAGE_MEAN_ACTUAL']\n",
    "\n",
    "actual_hourly_stats\n",
    "scheduled_hourly_stats"
   ]
  },
  {
   "cell_type": "code",
   "execution_count": null,
   "id": "7f2ed2b9",
   "metadata": {},
   "outputs": [],
   "source": [
    "# Group by SCHEDULED DAY_OF_WEEK and calculate statistics\n",
    "scheduled_weekly_stats = wego.groupby('DAY_OF_WEEK').agg({\n",
    "    'HDWY_DEV_PCT_C': 'mean',\n",
    "    'ADJUSTED_ONTIME_COUNT': 'mean'\n",
    "}).reset_index()\n",
    "\n",
    "#Columns\n",
    "scheduled_weekly_stats.columns = ['DAY_OF_WEEK', 'HDWY_DEV_PCT_C_MEAN_SCHEDULED', 'ONTIME_PERCENTAGE_MEAN_SCHEDULED']\n",
    "\n",
    "\n",
    "# Group by ACTUAL DAY_OF_WEEK and calculate statistics\n",
    "actual_weekly_stats = wego.groupby('ACTUAL_DAY_OF_WEEK').agg({\n",
    "    'HDWY_DEV_PCT_C': 'mean',\n",
    "    'ADJUSTED_ONTIME_COUNT': 'mean'\n",
    "}).reset_index()\n",
    "actual_weekly_stats.columns = ['ACTUAL_DAY_OF_WEEK', 'HDWY_DEV_PCT_C_MEAN_ACTUAL', 'ONTIME_PERCENTAGE_MEAN_ACTUAL']\n",
    "\n",
    "print(scheduled_weekly_stats)\n",
    "print(actual_weekly_stats)"
   ]
  },
  {
   "cell_type": "code",
   "execution_count": null,
   "id": "67e4dab2",
   "metadata": {},
   "outputs": [],
   "source": [
    "\n",
    "plt.figure(figsize=(14, 12))\n",
    "\n",
    "# Plot for Scheduled vs Actual Hourly Statistics\n",
    "plt.subplot(2, 1, 1)\n",
    "sns.lineplot(data=scheduled_hourly_stats, x='HOUR_OF_DAY', y='HDWY_DEV_PCT_C_MEAN_SCHEDULED', label='Scheduled Headway Deviation Mean', marker='o')\n",
    "sns.lineplot(data=actual_hourly_stats, x='ACTUAL_HOUR_OF_DAY', y='HDWY_DEV_PCT_C_MEAN_ACTUAL', label='Actual Headway Deviation Mean', marker='o')\n",
    "sns.lineplot(data=scheduled_hourly_stats, x='HOUR_OF_DAY', y='ONTIME_PERCENTAGE_MEAN_SCHEDULED', label='Scheduled On-Time Percentage Mean', marker='o')\n",
    "sns.lineplot(data=actual_hourly_stats, x='ACTUAL_HOUR_OF_DAY', y='ONTIME_PERCENTAGE_MEAN_ACTUAL', label='Actual On-Time Percentage Mean', marker='o')\n",
    "plt.title('Hourly Headway Deviation and On-Time Performance (Scheduled vs Actual)')\n",
    "plt.xlabel('Hour of Day')\n",
    "plt.ylabel('Mean Value')\n",
    "plt.legend()\n",
    "plt.grid(True)\n",
    "\n",
    "# Plot for Scheduled vs Actual Weekly Statistics\n",
    "plt.subplot(2, 1, 2)\n",
    "sns.lineplot(data=scheduled_weekly_stats, x='DAY_OF_WEEK', y='HDWY_DEV_PCT_C_MEAN_SCHEDULED', label='Scheduled Headway Deviation Mean', marker='o')\n",
    "sns.lineplot(data=actual_weekly_stats, x='ACTUAL_DAY_OF_WEEK', y='HDWY_DEV_PCT_C_MEAN_ACTUAL', label='Actual Headway Deviation Mean', marker='o')\n",
    "sns.lineplot(data=scheduled_weekly_stats, x='DAY_OF_WEEK', y='ONTIME_PERCENTAGE_MEAN_SCHEDULED', label='Scheduled On-Time Percentage Mean', marker='o')\n",
    "sns.lineplot(data=actual_weekly_stats, x='ACTUAL_DAY_OF_WEEK', y='ONTIME_PERCENTAGE_MEAN_ACTUAL', label='Actual On-Time Percentage Mean', marker='o')\n",
    "plt.title('Weekly Headway Deviation and On-Time Performance (Scheduled vs Actual)')\n",
    "plt.xlabel('Day of Week (0=Monday, 6=Sunday)')\n",
    "plt.ylabel('Mean Value')\n",
    "plt.legend()\n",
    "plt.grid(True)\n",
    "\n",
    "plt.tight_layout()\n",
    "plt.show()"
   ]
  },
  {
   "cell_type": "markdown",
   "id": "f2b2b8d5",
   "metadata": {},
   "source": [
    "4. How much of a factor does the driver have on headway and on-time performance? The driver is indicated by the OPERATOR variable."
   ]
  },
  {
   "cell_type": "code",
   "execution_count": null,
   "id": "b1159afd",
   "metadata": {},
   "outputs": [],
   "source": [
    "grouped_operator = wego.groupby('OPERATOR').agg({\n",
    "    'HDWY_DEV_PCT':'mean',\n",
    "    'ADHERENCE': 'mean',\n",
    "    'ADJUSTED_ONTIME_COUNT': 'mean'\n",
    "}).reset_index()\n",
    "\n",
    "# Rename columns \n",
    "grouped_operator.columns = ['OPERATOR', 'HDWY_DEV_PCT_MEAN', 'ADHERENCE_MEAN', 'ONTIME_PERCENTAGE_MEAN']\n",
    "\n",
    "# Display the first few rows \n",
    "print(grouped_operator.head(10))"
   ]
  },
  {
   "cell_type": "code",
   "execution_count": null,
   "id": "656ed133",
   "metadata": {},
   "outputs": [],
   "source": [
    "# The figure\n",
    "plt.figure(figsize=(14, 10))\n",
    "\n",
    "# Plot Headway Deviation Percentage Mean\n",
    "plt.subplot(2, 1, 1)\n",
    "sns.barplot(x='OPERATOR', y='HDWY_DEV_PCT_MEAN', data=grouped_operator, palette='viridis')\n",
    "plt.title('Mean Headway Deviation Percentage by Operator')\n",
    "plt.xlabel('Operator')\n",
    "plt.ylabel('Mean Headway Deviation Percentage')\n",
    "plt.xticks(rotation=90)\n",
    "plt.grid(True)\n",
    "\n",
    "# Plot On-Time Performance Mean\n",
    "plt.subplot(2, 1, 2)\n",
    "sns.barplot(x='OPERATOR', y='ONTIME_PERCENTAGE_MEAN', data=grouped_operator, palette='viridis')\n",
    "plt.title('Mean On-Time Performance by Operator')\n",
    "plt.xlabel('Operator')\n",
    "plt.ylabel('Mean On-Time Performance')\n",
    "plt.xticks(rotation=90)\n",
    "plt.grid(True)\n",
    "\n",
    "plt.tight_layout()\n",
    "plt.show()\n"
   ]
  },
  {
   "cell_type": "code",
   "execution_count": null,
   "id": "ba746f8d",
   "metadata": {},
   "outputs": [],
   "source": [
    "# Group data by operator and calculate the mean \n",
    "grouped_operator = wego.groupby('OPERATOR').agg({\n",
    "    'HDWY_DEV_PCT': 'mean',\n",
    "    'ADHERENCE': 'mean',\n",
    "    'ADJUSTED_ONTIME_COUNT': 'mean'\n",
    "}).reset_index()\n",
    "\n",
    "# Rename columns \n",
    "grouped_operator.columns = ['OPERATOR', 'HDWY_DEV_PCT_MEAN', 'ADHERENCE_MEAN', 'ONTIME_PERCENTAGE_MEAN']\n",
    "\n",
    "# Sort by on-time performance and select the top 10 operators\n",
    "top_operators = grouped_operator.sort_values(by='ONTIME_PERCENTAGE_MEAN', ascending=False).head(10)\n",
    "\n",
    "# Display \n",
    "print(top_operators.head())"
   ]
  },
  {
   "cell_type": "code",
   "execution_count": null,
   "id": "a95f531c",
   "metadata": {},
   "outputs": [],
   "source": [
    "# Set up the figure\n",
    "plt.figure(figsize=(14, 10))\n",
    "\n",
    "# Plot Headway Deviation Percentage Mean for top 10 operators\n",
    "plt.subplot(2, 1, 1)\n",
    "sns.barplot(x='OPERATOR', y='HDWY_DEV_PCT_MEAN', data=top_operators, palette='viridis')\n",
    "plt.title('Mean Headway Deviation Percentage by Top 10 Operators')\n",
    "plt.xlabel('Operator')\n",
    "plt.ylabel('Mean Headway Deviation Percentage')\n",
    "plt.xticks(rotation=30)\n",
    "plt.grid(True)\n",
    "\n",
    "# Plot On-Time Performance Mean for top 10 operators\n",
    "plt.subplot(2, 1, 2)\n",
    "sns.barplot(x='OPERATOR', y='ONTIME_PERCENTAGE_MEAN', data=top_operators, palette='viridis')\n",
    "plt.title('Mean On-Time Performance by Top 10 Operators')\n",
    "plt.xlabel('Operator')\n",
    "plt.ylabel('Mean On-Time Performance')\n",
    "plt.xticks(rotation=30)\n",
    "plt.grid(True)\n",
    "\n",
    "plt.tight_layout()\n",
    "plt.show()"
   ]
  },
  {
   "cell_type": "markdown",
   "id": "e3933edb",
   "metadata": {},
   "source": [
    "5. Is there any relationship between lateness (ADHERENCE) and headway deviation?"
   ]
  },
  {
   "cell_type": "code",
   "execution_count": null,
   "id": "aee03fd3",
   "metadata": {},
   "outputs": [],
   "source": [
    "# Set up the figure\n",
    "plt.figure(figsize=(10, 6))\n",
    "\n",
    "# Scatter plot of ADHERENCE vs. HDWY_DEV\n",
    "sns.scatterplot(x='ADHERENCE', y='HDWY_DEV', data=wego, color='#6F4B9E')\n",
    "plt.title('Scatter Plot of Adherence vs. Headway Deviation')\n",
    "plt.xlabel('Adherence (minutes)')\n",
    "plt.ylabel('Headway Deviation (minutes)')\n",
    "\n",
    "\n",
    "# Regression line\n",
    "sns.regplot(x='ADHERENCE', y='HDWY_DEV', data=filtered_data, scatter=False, color='red')\n",
    "\n",
    "plt.grid(True)\n",
    "plt.show()"
   ]
  },
  {
   "cell_type": "code",
   "execution_count": null,
   "id": "17d27b3b",
   "metadata": {},
   "outputs": [],
   "source": []
  }
 ],
 "metadata": {
  "kernelspec": {
   "display_name": "Python 3 (ipykernel)",
   "language": "python",
   "name": "python3"
  },
  "language_info": {
   "codemirror_mode": {
    "name": "ipython",
    "version": 3
   },
   "file_extension": ".py",
   "mimetype": "text/x-python",
   "name": "python",
   "nbconvert_exporter": "python",
   "pygments_lexer": "ipython3",
   "version": "3.11.7"
  }
 },
 "nbformat": 4,
 "nbformat_minor": 5
}
