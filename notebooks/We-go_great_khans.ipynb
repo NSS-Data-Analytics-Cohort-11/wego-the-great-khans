{
 "cells": [
  {
   "cell_type": "code",
   "execution_count": null,
   "id": "a88e2ec2",
   "metadata": {},
   "outputs": [],
   "source": [
    "import pandas as pd\n",
    "import matplotlib.pyplot as plt\n",
    "import seaborn as sns\n",
    "import numpy as np"
   ]
  },
  {
   "cell_type": "code",
   "execution_count": null,
   "id": "b9cab64a",
   "metadata": {},
   "outputs": [],
   "source": [
    "wego = pd.read_csv(\"../data/Headway Data, 8-1-2023 to 9-30-2023.csv\")\n",
    "\n",
    "wego.head()"
   ]
  },
  {
   "cell_type": "markdown",
   "id": "d0259167",
   "metadata": {},
   "source": [
    "1.What is the overall on-time performance, and what do the overall distributions of adherence and headway deviation look like?\n",
    "\n",
    "\n",
    "\n",
    "\n"
   ]
  },
  {
   "cell_type": "code",
   "execution_count": null,
   "id": "f1c3671d",
   "metadata": {
    "scrolled": true
   },
   "outputs": [],
   "source": [
    "#Filtering columns\n",
    "relevant_columns = ['ROUTE_ABBR', 'SCHEDULED_TIME', 'ACTUAL_ARRIVAL_TIME', 'ADHERENCE', 'HDWY_DEV','SCHEDULED_HDWY']\n",
    "filtered_data = wego.loc[:, relevant_columns]\n"
   ]
  },
  {
   "cell_type": "code",
   "execution_count": null,
   "id": "0c67ff58",
   "metadata": {
    "scrolled": true
   },
   "outputs": [],
   "source": [
    "ontime_percentage = (wego['ADJUSTED_ONTIME_COUNT'].value_counts(normalize=True) * 100).round(2)\n",
    "\n",
    "# '%' added\n",
    "ontime_percentage_formatted = ontime_percentage.map(\"{:.2f}%\".format)\n",
    "\n",
    "# Results\n",
    "print(\"Percentage of ADJUSTED_ONTIME_COUNT values:\")\n",
    "print(ontime_percentage_formatted)"
   ]
  },
  {
   "cell_type": "code",
   "execution_count": null,
   "id": "f52b9af6",
   "metadata": {},
   "outputs": [],
   "source": [
    "#Uncleaned \n",
    "wego['HDWY_DEV_PCT'] = wego['HDWY_DEV'] / wego['SCHEDULED_HDWY']"
   ]
  },
  {
   "cell_type": "code",
   "execution_count": null,
   "id": "a0748a80",
   "metadata": {},
   "outputs": [],
   "source": [
    "#Cleaned PCT without inf and NaN's\n",
    "wego['HDWY_DEV_PCT_C'] = wego['HDWY_DEV'] / wego['SCHEDULED_HDWY']\n",
    "\n",
    "# Replace inf values with NaN\n",
    "wego['HDWY_DEV_PCT_C'] = wego['HDWY_DEV_PCT_C'].replace([np.inf, -np.inf], np.nan)\n",
    "\n",
    "# Drop rows with NaN values\n",
    "wego_cleaned = wego.dropna(subset=['HDWY_DEV_PCT_C'])"
   ]
  },
  {
   "cell_type": "code",
   "execution_count": null,
   "id": "517189af",
   "metadata": {
    "scrolled": true
   },
   "outputs": [],
   "source": [
    "#Plots\n",
    "plt.figure(figsize=(12, 6))\n",
    "\n",
    "# Distribution of adherence\n",
    "plt.subplot(1, 2, 1)\n",
    "sns.histplot(filtered_data['ADHERENCE'], kde=True, color='lightpink')\n",
    "plt.title('Distribution of Adherence')\n",
    "plt.xlabel('Adherence (minutes)')\n",
    "plt.ylabel('Frequency')\n",
    "\n",
    "\n",
    "# Distribution of headway deviation\n",
    "plt.subplot(1, 2, 2)\n",
    "sns.histplot(filtered_data['HDWY_DEV'], kde=True, color='lightpink')\n",
    "plt.title('Distribution of Headway Deviation')\n",
    "plt.xlabel('Headway Deviation (minutes)')\n",
    "plt.ylabel('Frequency')\n",
    "\n",
    "\n",
    "plt.tight_layout()\n",
    "plt.show()"
   ]
  },
  {
   "cell_type": "code",
   "execution_count": null,
   "id": "4c00f594",
   "metadata": {
    "scrolled": true
   },
   "outputs": [],
   "source": [
    "#Histograms with pretty lines\n",
    "plt.figure(figsize=(12, 6))\n",
    "\n",
    "#'ADHERENCE'\n",
    "plt.subplot(1, 2, 1)\n",
    "sns.histplot(filtered_data['ADHERENCE'], kde=True, color='lightpink')\n",
    "plt.title('Histogram of Adherence')\n",
    "plt.xlabel('Adherence (minutes)')\n",
    "plt.ylabel('Frequency')\n",
    "plt.axvline(x=-6, color='purple', linestyle='--', label='Late Threshold (-6 min)')  # Adding a line indicating late threshold\n",
    "plt.axvline(x=1, color='green', linestyle='--', label='Early Threshold (1 min)')  # Addin a line indicating early threshold\n",
    "plt.xlim(left=-30, right=30)\n",
    "plt.legend()\n",
    "\n",
    "#'HDWY_DEV' \n",
    "filtered_data['HDWY_DEV_PCT_C'] = filtered_data['HDWY_DEV'] / filtered_data['SCHEDULED_HDWY']\n",
    "plt.subplot(1, 2, 2)\n",
    "sns.histplot(filtered_data['HDWY_DEV_PCT_C'], kde=True, color='#6F4B9E')\n",
    "plt.title('Headway Deviation Percent')\n",
    "plt.xlabel('Headway Deviation Precent')\n",
    "plt.ylabel('Frequency')\n",
    "plt.xlim(left=-2, right=2)  \n",
    "\n",
    "\n",
    "plt.tight_layout()\n",
    "plt.show()"
   ]
  },
  {
   "cell_type": "markdown",
   "id": "78f98c23",
   "metadata": {},
   "source": [
    "2. How does direction of travel, route, or location affect the headway and on-time performance?"
   ]
  },
  {
   "cell_type": "code",
   "execution_count": null,
   "id": "5e1811dc",
   "metadata": {},
   "outputs": [],
   "source": [
    "grouped_abbr = wego.groupby('ROUTE_ABBR')"
   ]
  },
  {
   "cell_type": "code",
   "execution_count": null,
   "id": "e049ce22",
   "metadata": {},
   "outputs": [],
   "source": [
    "grouped_route = wego.groupby('ROUTE_DIRECTION_NAME')"
   ]
  },
  {
   "cell_type": "code",
   "execution_count": null,
   "id": "fa0665c7",
   "metadata": {},
   "outputs": [],
   "source": [
    "statistics = grouped_abbr.agg({'HDWY_DEV_PCT_C': ['mean', 'std'], 'ADJUSTED_ONTIME_COUNT': 'mean'})"
   ]
  },
  {
   "cell_type": "code",
   "execution_count": null,
   "id": "8b81e562",
   "metadata": {
    "scrolled": false
   },
   "outputs": [],
   "source": [
    "statistics"
   ]
  },
  {
   "cell_type": "code",
   "execution_count": null,
   "id": "96b1ec43",
   "metadata": {},
   "outputs": [],
   "source": [
    "# Group by 'ROUTE_DIRECTION_NAME' & 'ROUTE_ABBR'\n",
    "grouped_route = wego.groupby(['ROUTE_ABBR', 'ROUTE_DIRECTION_NAME'])\n",
    "\n",
    "#Stats\n",
    "statistics = grouped_route.agg({'HDWY_DEV_PCT_C': ['mean', 'std'], 'ADJUSTED_ONTIME_COUNT': 'mean'})"
   ]
  },
  {
   "cell_type": "code",
   "execution_count": null,
   "id": "e1967e18",
   "metadata": {},
   "outputs": [],
   "source": [
    "statistics"
   ]
  },
  {
   "cell_type": "code",
   "execution_count": null,
   "id": "6fef02d0",
   "metadata": {},
   "outputs": [],
   "source": []
  }
 ],
 "metadata": {
  "kernelspec": {
   "display_name": "Python 3 (ipykernel)",
   "language": "python",
   "name": "python3"
  },
  "language_info": {
   "codemirror_mode": {
    "name": "ipython",
    "version": 3
   },
   "file_extension": ".py",
   "mimetype": "text/x-python",
   "name": "python",
   "nbconvert_exporter": "python",
   "pygments_lexer": "ipython3",
   "version": "3.11.7"
  }
 },
 "nbformat": 4,
 "nbformat_minor": 5
}
