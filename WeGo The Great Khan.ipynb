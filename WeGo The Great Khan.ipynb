{
 "cells": [
  {
   "cell_type": "code",
   "execution_count": 42,
   "id": "7b6ce6e2",
   "metadata": {},
   "outputs": [],
   "source": [
    "import pandas as pd\n",
    "import numpy as np\n",
    "import matplotlib.pyplot as plt\n",
    "import seaborn as sns"
   ]
  },
  {
   "cell_type": "code",
   "execution_count": 43,
   "id": "bf14a978",
   "metadata": {},
   "outputs": [],
   "source": [
    "wego = pd.read_csv(\"data/Headway Data, 8-1-2023 to 9-30-2023.csv\")"
   ]
  },
  {
   "cell_type": "code",
   "execution_count": 44,
   "id": "f6acc65c",
   "metadata": {},
   "outputs": [
    {
     "data": {
      "text/html": [
       "<div>\n",
       "<style scoped>\n",
       "    .dataframe tbody tr th:only-of-type {\n",
       "        vertical-align: middle;\n",
       "    }\n",
       "\n",
       "    .dataframe tbody tr th {\n",
       "        vertical-align: top;\n",
       "    }\n",
       "\n",
       "    .dataframe thead th {\n",
       "        text-align: right;\n",
       "    }\n",
       "</style>\n",
       "<table border=\"1\" class=\"dataframe\">\n",
       "  <thead>\n",
       "    <tr style=\"text-align: right;\">\n",
       "      <th></th>\n",
       "      <th>CALENDAR_ID</th>\n",
       "      <th>SERVICE_ABBR</th>\n",
       "      <th>ADHERENCE_ID</th>\n",
       "      <th>DATE</th>\n",
       "      <th>ROUTE_ABBR</th>\n",
       "      <th>BLOCK_ABBR</th>\n",
       "      <th>OPERATOR</th>\n",
       "      <th>TRIP_ID</th>\n",
       "      <th>OVERLOAD_ID</th>\n",
       "      <th>ROUTE_DIRECTION_NAME</th>\n",
       "      <th>...</th>\n",
       "      <th>ACTUAL_HDWY</th>\n",
       "      <th>HDWY_DEV</th>\n",
       "      <th>ADJUSTED_EARLY_COUNT</th>\n",
       "      <th>ADJUSTED_LATE_COUNT</th>\n",
       "      <th>ADJUSTED_ONTIME_COUNT</th>\n",
       "      <th>STOP_CANCELLED</th>\n",
       "      <th>PREV_SCHED_STOP_CANCELLED</th>\n",
       "      <th>IS_RELIEF</th>\n",
       "      <th>DWELL_IN_MINS</th>\n",
       "      <th>SCHEDULED_LAYOVER_MINUTES</th>\n",
       "    </tr>\n",
       "  </thead>\n",
       "  <tbody>\n",
       "    <tr>\n",
       "      <th>0</th>\n",
       "      <td>120230801</td>\n",
       "      <td>1</td>\n",
       "      <td>99457890</td>\n",
       "      <td>2023-08-01</td>\n",
       "      <td>22</td>\n",
       "      <td>2200</td>\n",
       "      <td>1040</td>\n",
       "      <td>345104</td>\n",
       "      <td>0</td>\n",
       "      <td>TO DOWNTOWN</td>\n",
       "      <td>...</td>\n",
       "      <td>NaN</td>\n",
       "      <td>NaN</td>\n",
       "      <td>0</td>\n",
       "      <td>0</td>\n",
       "      <td>1</td>\n",
       "      <td>0</td>\n",
       "      <td>0.0</td>\n",
       "      <td>0</td>\n",
       "      <td>6.500000</td>\n",
       "      <td>NaN</td>\n",
       "    </tr>\n",
       "    <tr>\n",
       "      <th>1</th>\n",
       "      <td>120230801</td>\n",
       "      <td>1</td>\n",
       "      <td>99457891</td>\n",
       "      <td>2023-08-01</td>\n",
       "      <td>22</td>\n",
       "      <td>2200</td>\n",
       "      <td>1040</td>\n",
       "      <td>345104</td>\n",
       "      <td>0</td>\n",
       "      <td>TO DOWNTOWN</td>\n",
       "      <td>...</td>\n",
       "      <td>NaN</td>\n",
       "      <td>NaN</td>\n",
       "      <td>0</td>\n",
       "      <td>0</td>\n",
       "      <td>1</td>\n",
       "      <td>0</td>\n",
       "      <td>0.0</td>\n",
       "      <td>0</td>\n",
       "      <td>0.000000</td>\n",
       "      <td>NaN</td>\n",
       "    </tr>\n",
       "    <tr>\n",
       "      <th>2</th>\n",
       "      <td>120230801</td>\n",
       "      <td>1</td>\n",
       "      <td>99457892</td>\n",
       "      <td>2023-08-01</td>\n",
       "      <td>22</td>\n",
       "      <td>2200</td>\n",
       "      <td>1040</td>\n",
       "      <td>345104</td>\n",
       "      <td>0</td>\n",
       "      <td>TO DOWNTOWN</td>\n",
       "      <td>...</td>\n",
       "      <td>NaN</td>\n",
       "      <td>NaN</td>\n",
       "      <td>0</td>\n",
       "      <td>0</td>\n",
       "      <td>1</td>\n",
       "      <td>0</td>\n",
       "      <td>0.0</td>\n",
       "      <td>0</td>\n",
       "      <td>0.000000</td>\n",
       "      <td>NaN</td>\n",
       "    </tr>\n",
       "    <tr>\n",
       "      <th>3</th>\n",
       "      <td>120230801</td>\n",
       "      <td>1</td>\n",
       "      <td>99457893</td>\n",
       "      <td>2023-08-01</td>\n",
       "      <td>22</td>\n",
       "      <td>2200</td>\n",
       "      <td>1040</td>\n",
       "      <td>345104</td>\n",
       "      <td>0</td>\n",
       "      <td>TO DOWNTOWN</td>\n",
       "      <td>...</td>\n",
       "      <td>NaN</td>\n",
       "      <td>NaN</td>\n",
       "      <td>0</td>\n",
       "      <td>0</td>\n",
       "      <td>1</td>\n",
       "      <td>0</td>\n",
       "      <td>NaN</td>\n",
       "      <td>0</td>\n",
       "      <td>0.000000</td>\n",
       "      <td>NaN</td>\n",
       "    </tr>\n",
       "    <tr>\n",
       "      <th>4</th>\n",
       "      <td>120230801</td>\n",
       "      <td>1</td>\n",
       "      <td>99457894</td>\n",
       "      <td>2023-08-01</td>\n",
       "      <td>22</td>\n",
       "      <td>2200</td>\n",
       "      <td>1040</td>\n",
       "      <td>345105</td>\n",
       "      <td>0</td>\n",
       "      <td>FROM DOWNTOWN</td>\n",
       "      <td>...</td>\n",
       "      <td>NaN</td>\n",
       "      <td>NaN</td>\n",
       "      <td>0</td>\n",
       "      <td>0</td>\n",
       "      <td>1</td>\n",
       "      <td>0</td>\n",
       "      <td>0.0</td>\n",
       "      <td>0</td>\n",
       "      <td>12.866666</td>\n",
       "      <td>5.0</td>\n",
       "    </tr>\n",
       "  </tbody>\n",
       "</table>\n",
       "<p>5 rows × 30 columns</p>\n",
       "</div>"
      ],
      "text/plain": [
       "   CALENDAR_ID  SERVICE_ABBR  ADHERENCE_ID        DATE  ROUTE_ABBR  \\\n",
       "0    120230801             1      99457890  2023-08-01          22   \n",
       "1    120230801             1      99457891  2023-08-01          22   \n",
       "2    120230801             1      99457892  2023-08-01          22   \n",
       "3    120230801             1      99457893  2023-08-01          22   \n",
       "4    120230801             1      99457894  2023-08-01          22   \n",
       "\n",
       "   BLOCK_ABBR  OPERATOR  TRIP_ID  OVERLOAD_ID ROUTE_DIRECTION_NAME  ...  \\\n",
       "0        2200      1040   345104            0          TO DOWNTOWN  ...   \n",
       "1        2200      1040   345104            0          TO DOWNTOWN  ...   \n",
       "2        2200      1040   345104            0          TO DOWNTOWN  ...   \n",
       "3        2200      1040   345104            0          TO DOWNTOWN  ...   \n",
       "4        2200      1040   345105            0        FROM DOWNTOWN  ...   \n",
       "\n",
       "  ACTUAL_HDWY  HDWY_DEV  ADJUSTED_EARLY_COUNT  ADJUSTED_LATE_COUNT  \\\n",
       "0         NaN       NaN                     0                    0   \n",
       "1         NaN       NaN                     0                    0   \n",
       "2         NaN       NaN                     0                    0   \n",
       "3         NaN       NaN                     0                    0   \n",
       "4         NaN       NaN                     0                    0   \n",
       "\n",
       "   ADJUSTED_ONTIME_COUNT STOP_CANCELLED PREV_SCHED_STOP_CANCELLED IS_RELIEF  \\\n",
       "0                      1              0                       0.0         0   \n",
       "1                      1              0                       0.0         0   \n",
       "2                      1              0                       0.0         0   \n",
       "3                      1              0                       NaN         0   \n",
       "4                      1              0                       0.0         0   \n",
       "\n",
       "   DWELL_IN_MINS  SCHEDULED_LAYOVER_MINUTES  \n",
       "0       6.500000                        NaN  \n",
       "1       0.000000                        NaN  \n",
       "2       0.000000                        NaN  \n",
       "3       0.000000                        NaN  \n",
       "4      12.866666                        5.0  \n",
       "\n",
       "[5 rows x 30 columns]"
      ]
     },
     "execution_count": 44,
     "metadata": {},
     "output_type": "execute_result"
    }
   ],
   "source": [
    "wego.head()"
   ]
  },
  {
   "cell_type": "code",
   "execution_count": 45,
   "id": "cb852a4e",
   "metadata": {},
   "outputs": [
    {
     "data": {
      "text/plain": [
       "Index(['CALENDAR_ID', 'SERVICE_ABBR', 'ADHERENCE_ID', 'DATE', 'ROUTE_ABBR',\n",
       "       'BLOCK_ABBR', 'OPERATOR', 'TRIP_ID', 'OVERLOAD_ID',\n",
       "       'ROUTE_DIRECTION_NAME', 'TIME_POINT_ABBR', 'ROUTE_STOP_SEQUENCE',\n",
       "       'TRIP_EDGE', 'LATITUDE', 'LONGITUDE', 'SCHEDULED_TIME',\n",
       "       'ACTUAL_ARRIVAL_TIME', 'ACTUAL_DEPARTURE_TIME', 'ADHERENCE',\n",
       "       'SCHEDULED_HDWY', 'ACTUAL_HDWY', 'HDWY_DEV', 'ADJUSTED_EARLY_COUNT',\n",
       "       'ADJUSTED_LATE_COUNT', 'ADJUSTED_ONTIME_COUNT', 'STOP_CANCELLED',\n",
       "       'PREV_SCHED_STOP_CANCELLED', 'IS_RELIEF', 'DWELL_IN_MINS',\n",
       "       'SCHEDULED_LAYOVER_MINUTES'],\n",
       "      dtype='object')"
      ]
     },
     "execution_count": 45,
     "metadata": {},
     "output_type": "execute_result"
    }
   ],
   "source": [
    "wego.columns"
   ]
  },
  {
   "cell_type": "code",
   "execution_count": 46,
   "id": "856ec9ca",
   "metadata": {},
   "outputs": [
    {
     "data": {
      "text/plain": [
       "ROUTE_ABBR\n",
       "3     47162\n",
       "7     18026\n",
       "22    25959\n",
       "23    42108\n",
       "50    43291\n",
       "52    51819\n",
       "55    61944\n",
       "56    60020\n",
       "Name: count, dtype: int64"
      ]
     },
     "execution_count": 46,
     "metadata": {},
     "output_type": "execute_result"
    }
   ],
   "source": [
    "wego['ROUTE_ABBR'].value_counts().sort_index()"
   ]
  },
  {
   "cell_type": "markdown",
   "id": "4315d43a",
   "metadata": {},
   "source": [
    "# 1. What is the overall on-time performance, and what do the overall distributions of adherence and headway deviation look like? "
   ]
  },
  {
   "cell_type": "code",
   "execution_count": 47,
   "id": "2ca35dd7",
   "metadata": {},
   "outputs": [
    {
     "data": {
      "text/plain": [
       "ADJUSTED_ONTIME_COUNT\n",
       "1    0.770841\n",
       "0    0.229159\n",
       "Name: proportion, dtype: float64"
      ]
     },
     "execution_count": 47,
     "metadata": {},
     "output_type": "execute_result"
    }
   ],
   "source": [
    "wego['ADJUSTED_ONTIME_COUNT'].value_counts(normalize=True)"
   ]
  },
  {
   "cell_type": "code",
   "execution_count": 48,
   "id": "e176873e",
   "metadata": {},
   "outputs": [
    {
     "data": {
      "text/plain": [
       "0"
      ]
     },
     "execution_count": 48,
     "metadata": {},
     "output_type": "execute_result"
    }
   ],
   "source": [
    "wego['ADJUSTED_ONTIME_COUNT'].isnull().sum()"
   ]
  },
  {
   "cell_type": "code",
   "execution_count": 49,
   "id": "665cdb0c",
   "metadata": {},
   "outputs": [
    {
     "data": {
      "text/plain": [
       "<Axes: ylabel='Density'>"
      ]
     },
     "execution_count": 49,
     "metadata": {},
     "output_type": "execute_result"
    },
    {
     "data": {
      "image/png": "[encoded data removed]",
      "text/plain": [
       "<Figure size 640x480 with 1 Axes>"
      ]
     },
     "metadata": {},
     "output_type": "display_data"
    }
   ],
   "source": [
    "wego['ADHERENCE'].plot(kind='kde')"
   ]
  },
  {
   "cell_type": "code",
   "execution_count": 51,
   "id": "163fe56a",
   "metadata": {},
   "outputs": [
    {
     "data": {
      "text/plain": [
       "<Axes: ylabel='Density'>"
      ]
     },
     "execution_count": 51,
     "metadata": {},
     "output_type": "execute_result"
    },
    {
     "data": {
      "image/png": "[encoded data removed]",
      "text/plain": [
       "<Figure size 640x480 with 1 Axes>"
      ]
     },
     "metadata": {},
     "output_type": "display_data"
    }
   ],
   "source": [
    "wego['HDWY_DEV'].plot(kind='kde')"
   ]
  },
  {
   "cell_type": "code",
   "execution_count": 55,
   "id": "e2c52ca1",
   "metadata": {},
   "outputs": [
    {
     "name": "stderr",
     "output_type": "stream",
     "text": [
      "C:\\Users\\Owne\\anaconda3\\Lib\\site-packages\\seaborn\\_oldcore.py:1119: FutureWarning: use_inf_as_na option is deprecated and will be removed in a future version. Convert inf values to NaN before operating instead.\n",
      "  with pd.option_context('mode.use_inf_as_na', True):\n"
     ]
    },
    {
     "data": {
      "text/plain": [
       "<matplotlib.legend.Legend at 0x2128f4f8710>"
      ]
     },
     "execution_count": 55,
     "metadata": {},
     "output_type": "execute_result"
    },
    {
     "data": {
      "image/png": "[encoded data removed]",
      "text/plain": [
       "<Figure size 640x480 with 1 Axes>"
      ]
     },
     "metadata": {},
     "output_type": "display_data"
    }
   ],
   "source": [
    "sns.histplot(wego['ADHERENCE'], kde=True, color='lightpink')\n",
    "plt.title('Histogram of Adherence')\n",
    "plt.xlabel('Adherence (minutes)')\n",
    "plt.ylabel('Frequency')\n",
    "plt.axvline(x=-6, color='purple', linestyle='--', label='Late Threshold (-6 min)')  # Adding a line indicating late threshold\n",
    "plt.axvline(x=1, color='green', linestyle='--', label='Early Threshold (1 min)')  # Addin a line indicating early threshold\n",
    "plt.xlim(left=-30, right=30)\n",
    "plt.legend()"
   ]
  },
  {
   "cell_type": "markdown",
   "id": "af658187",
   "metadata": {},
   "source": [
    "# 2. How does direction of travel, route, or location affect the headway and on-time performance?"
   ]
  },
  {
   "cell_type": "code",
   "execution_count": null,
   "id": "19438b1b",
   "metadata": {},
   "outputs": [],
   "source": []
  }
 ],
 "metadata": {
  "kernelspec": {
   "display_name": "Python 3 (ipykernel)",
   "language": "python",
   "name": "python3"
  },
  "language_info": {
   "codemirror_mode": {
    "name": "ipython",
    "version": 3
   },
   "file_extension": ".py",
   "mimetype": "text/x-python",
   "name": "python",
   "nbconvert_exporter": "python",
   "pygments_lexer": "ipython3",
   "version": "3.11.7"
  }
 },
 "nbformat": 4,
 "nbformat_minor": 5
}
